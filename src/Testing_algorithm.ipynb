{
 "cells": [
  {
   "cell_type": "code",
   "execution_count": 3,
   "metadata": {},
   "outputs": [],
   "source": [
    "import pandas as pd\n",
    "import numpy as np\n",
    "from datetime import date"
   ]
  },
  {
   "cell_type": "code",
   "execution_count": 4,
   "metadata": {},
   "outputs": [],
   "source": [
    "import Graph\n",
    "import Path\n",
    "import Evolutionary"
   ]
  },
  {
   "cell_type": "markdown",
   "metadata": {},
   "source": [
    "Testing graph implementation"
   ]
  },
  {
   "cell_type": "code",
   "execution_count": 5,
   "metadata": {},
   "outputs": [],
   "source": [
    "graph = Graph.get_graph()\n",
    "assert len(graph.edges) == len(graph.vertices)\n",
    "\n",
    "assert graph.get_neighbours('Czechia') == graph.get_neighbours('Czech_Republic')\n",
    "\n",
    "assert np.array_equal(graph.get_stats('Czechia'), graph.get_stats('Czech_Republic'))\n",
    "\n",
    "assert graph.get_active_cases(\"ABKHAZIA\", date(2020, 3, 10)) == 0\n",
    "\n",
    "assert graph.get_active_cases(\"Poland\", date(2020, 3, 10)) == 17\n",
    "\n",
    "assert graph.get_active_cases(\"Poland\", date(2020, 3, 16)) == 122\n",
    "\n",
    "assert graph.get_active_cases(\"Poland\", date(2020, 3, 15)) == 102\n",
    "\n",
    "assert graph.get_active_cases('POLAND', date(2019, 3, 10)) == 0\n",
    "\n",
    "assert graph.get_active_cases('POLAND', date(2020, 3, 11)) - graph.get_active_cases('POLAND', date(2020, 3, 10)) == 5"
   ]
  },
  {
   "cell_type": "markdown",
   "metadata": {},
   "source": [
    "Testing path"
   ]
  },
  {
   "cell_type": "code",
   "execution_count": 18,
   "metadata": {},
   "outputs": [],
   "source": [
    "path = Path.Path('Poland', date(2020, 5, 1))\n",
    "\n",
    "path.add('Czechia')\n",
    "path.add('Germany')\n",
    "\n",
    "assert path.countries == ['Poland', 'Czechia', 'Germany']\n",
    "\n",
    "path.eval(graph)\n",
    "score = graph.get_active_cases('Poland', date(2020, 5, 1)) + graph.get_active_cases(\n",
    "    'Czechia', date(2020, 5, 2)) + graph.get_active_cases('Germany', date(2020, 5, 3))\n",
    "assert score == path.score\n",
    "\n",
    "path2 = Path.Path('Poland', date(2020, 5, 1))\n",
    "#path2.add('Czechia')\n",
    "path2.eval(graph)\n",
    "\n",
    "assert path2.countries == ['Poland']\n",
    "\n",
    "assert path2.score == 12253\n",
    "\n",
    "assert graph.get_active_cases('Poland', date(2020, 5, 1)) == 12253\n",
    "\n",
    "assert graph.get_active_cases('Czechia', date(2020, 5, 2)) == 7501\n",
    "\n",
    "assert path2.get_profit(graph, 'Czechia') == 7501"
   ]
  },
  {
   "cell_type": "markdown",
   "metadata": {},
   "source": [
    "Testing evolutionary algorithm"
   ]
  },
  {
   "cell_type": "code",
   "execution_count": 21,
   "metadata": {},
   "outputs": [],
   "source": [
    "start_day = date(2020, 4, 24)\n",
    "test = Evolutionary.EvolutionaryAlgorithm(graph, start_day, 100, 120, 0.05, 'roulette', 50, 'recovered')\n",
    "\n",
    "best = test.find_path()\n",
    "\n",
    "t = test.reproduce(test.random_lambda())\n",
    "\n",
    "y = test.select_next_generation(t)\n",
    "\n",
    "assert len(y) == len(test.active_generation)"
   ]
  },
  {
   "cell_type": "code",
   "execution_count": 34,
   "metadata": {},
   "outputs": [],
   "source": [
    "def cross_paths(path1, path2):\n",
    "    itrsct = [value for value in path1 if value in path2]\n",
    "    point1, point2 = path1.index(itrsct[len(itrsct)//2]), path2.index(itrsct[len(itrsct)//2])\n",
    "    need_len = len(path2)\n",
    "    if(point1 == point2):\n",
    "        ch1 = path1[:point1] + path2[point2:]\n",
    "        ch2 = path2[:point2] + path1[point1:]\n",
    "        return ch1, ch2\n",
    "    if(point1 < point2):\n",
    "        tmp, tmpp = path1, point1\n",
    "        path1, point1 = path2, point2\n",
    "        path2, point2 = tmp, tmpp\n",
    "    path = path1[:point1] + path2[point2:]\n",
    "    ch1 = path[:need_len]\n",
    "    ch2 = path[-need_len:]\n",
    "    return ch1, ch2\n",
    "    \n",
    "\n",
    "path1 = ['q', 'w', 'e', '[]', 'r', 't', 'y', 'u', 'i', 'o']\n",
    "path2 = ['a', 's', 'd', '[]', 'f', 'g', 'h', 'j', 'k', 'l']\n",
    "\n",
    "assert cross_paths(path1, path2) == (['q', 'w', 'e', '[]', 'f', 'g', 'h', 'j', 'k', 'l'],\n",
    " ['a', 's', 'd', '[]', 'r', 't', 'y', 'u', 'i', 'o'])\n",
    "\n",
    "path1 = ['q', 'w', 'e', 'r', 't', 'y', '[]', 'u', 'i', 'o']\n",
    "path2 = ['a', 's', 'd', '[]', 'f', 'g', 'h', 'j', 'k', 'l']\n",
    "\n",
    "assert cross_paths(path1, path2) == (['q', 'w', 'e', 'r', 't', 'y', '[]', 'f', 'g', 'h'],\n",
    " ['r', 't', 'y', '[]', 'f', 'g', 'h', 'j', 'k', 'l'])\n",
    "\n",
    "path1 = ['a', 's', 'd', '[]', 'f', 'g', 'h', 'j', 'k', 'l']\n",
    "path2 = ['q', 'w', 'e', 'r', 't', 'y', '[]', 'u', 'i', 'o']\n",
    "\n",
    "assert cross_paths(path1, path2) == (['q', 'w', 'e', 'r', 't', 'y', '[]', 'f', 'g', 'h'],\n",
    " ['r', 't', 'y', '[]', 'f', 'g', 'h', 'j', 'k', 'l'])\n",
    "\n",
    "path1 = ['a', 's', 'd', '[]', 'f', 'g', 'h', 'j', 'k', 'l']\n",
    "path2 = ['q', 'w', '[]', 'e', 'r', 't', 'y', 'u', 'i', 'o']\n",
    "\n",
    "assert cross_paths(path1, path2) == (['a', 's', 'd', '[]', 'e', 'r', 't', 'y', 'u', 'i'],\n",
    " ['s', 'd', '[]', 'e', 'r', 't', 'y', 'u', 'i', 'o'])\n",
    "\n",
    "path1 = ['a', '[]', 's', 'd', 'f', 'g', 'h', 'j', 'k', 'l']\n",
    "path2 = ['q', 'w', 'e', 'r', 't', '[]', 'y', 'u', 'i', 'o']\n",
    "\n",
    "assert cross_paths(path1, path2) == (['q', 'w', 'e', 'r', 't', '[]', 's', 'd', 'f', 'g'],\n",
    " ['t', '[]', 's', 'd', 'f', 'g', 'h', 'j', 'k', 'l'])\n",
    "\n",
    "path2 = ['a', 's', 'd', '[]', 'f', 'g', 'h', 'j', 'k', 'l']\n",
    "path1 = ['q', 'w', 'e', 'r', 't', 'y', 'u', '[]', 'i', 'o']\n",
    "\n",
    "assert cross_paths(path1, path2) == (['q', 'w', 'e', 'r', 't', 'y', 'u', '[]', 'f', 'g'],\n",
    " ['t', 'y', 'u', '[]', 'f', 'g', 'h', 'j', 'k', 'l'])"
   ]
  },
  {
   "cell_type": "markdown",
   "metadata": {},
   "source": [
    "# Measuring Evolutionary algorithm performance"
   ]
  },
  {
   "cell_type": "code",
   "execution_count": null,
   "metadata": {},
   "outputs": [],
   "source": []
  }
 ],
 "metadata": {
  "kernelspec": {
   "display_name": "Python 3",
   "language": "python",
   "name": "python3"
  },
  "language_info": {
   "codemirror_mode": {
    "name": "ipython",
    "version": 3
   },
   "file_extension": ".py",
   "mimetype": "text/x-python",
   "name": "python",
   "nbconvert_exporter": "python",
   "pygments_lexer": "ipython3",
   "version": "3.6.8"
  }
 },
 "nbformat": 4,
 "nbformat_minor": 4
}
