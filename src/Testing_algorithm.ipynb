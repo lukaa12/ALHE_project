{
 "cells": [
  {
   "cell_type": "code",
   "execution_count": 1,
   "metadata": {},
   "outputs": [],
   "source": [
    "import pandas as pd\n",
    "import numpy as np\n",
    "from datetime import date"
   ]
  },
  {
   "cell_type": "code",
   "execution_count": 2,
   "metadata": {},
   "outputs": [],
   "source": [
    "import Graph\n",
    "import Path\n",
    "import Evolutionary"
   ]
  },
  {
   "cell_type": "markdown",
   "metadata": {},
   "source": [
    "Testing graph implementation"
   ]
  },
  {
   "cell_type": "code",
   "execution_count": 34,
   "metadata": {},
   "outputs": [],
   "source": [
    "graph = Graph.get_graph()"
   ]
  },
  {
   "cell_type": "code",
   "execution_count": null,
   "metadata": {},
   "outputs": [],
   "source": [
    "graph.edges"
   ]
  },
  {
   "cell_type": "code",
   "execution_count": null,
   "metadata": {},
   "outputs": [],
   "source": [
    "graph.vertices"
   ]
  },
  {
   "cell_type": "code",
   "execution_count": null,
   "metadata": {},
   "outputs": [],
   "source": [
    "assert len(graph.edges) == len(graph.vertices)"
   ]
  },
  {
   "cell_type": "code",
   "execution_count": 9,
   "metadata": {},
   "outputs": [
    {
     "data": {
      "text/plain": [
       "['BELARUS',\n",
       " 'CZECH_REPUBLIC',\n",
       " 'DENMARK',\n",
       " 'GERMANY',\n",
       " 'LITHUANIA',\n",
       " 'RUSSIA',\n",
       " 'SLOVAKIA',\n",
       " 'SWEDEN',\n",
       " 'UKRAINE']"
      ]
     },
     "execution_count": 9,
     "metadata": {},
     "output_type": "execute_result"
    }
   ],
   "source": [
    "graph.get_neighbours('POLAND')"
   ]
  },
  {
   "cell_type": "code",
   "execution_count": null,
   "metadata": {},
   "outputs": [],
   "source": [
    "assert graph.get_neighbours('Czechia') == graph.get_neighbours('Czech_Republic')"
   ]
  },
  {
   "cell_type": "code",
   "execution_count": null,
   "metadata": {},
   "outputs": [],
   "source": [
    "graph.get_neighbours('Czech_Republic')"
   ]
  },
  {
   "cell_type": "code",
   "execution_count": 12,
   "metadata": {},
   "outputs": [
    {
     "data": {
      "text/plain": [
       "7"
      ]
     },
     "execution_count": 12,
     "metadata": {},
     "output_type": "execute_result"
    }
   ],
   "source": [
    "(date(2020, 5, 14) - date(2020, 5, 7)).days"
   ]
  },
  {
   "cell_type": "code",
   "execution_count": 10,
   "metadata": {},
   "outputs": [
    {
     "data": {
      "text/plain": [
       "array([[   8,    5, 2020,  307,   22],\n",
       "       [   7,    5, 2020,  309,   17],\n",
       "       [   6,    5, 2020,  425,   18],\n",
       "       [   5,    5, 2020,  313,   20],\n",
       "       [   4,    5, 2020,  318,   14],\n",
       "       [   3,    5, 2020,  270,   13],\n",
       "       [   2,    5, 2020,  228,    7],\n",
       "       [   1,    5, 2020,  237,   20],\n",
       "       [  30,    4, 2020,  422,   28],\n",
       "       [  29,    4, 2020,  316,   34],\n",
       "       [  28,    4, 2020,  285,   27],\n",
       "       [  27,    4, 2020,  344,   11],\n",
       "       [  26,    4, 2020,  381,   30],\n",
       "       [  25,    4, 2020,  381,   40],\n",
       "       [  24,    4, 2020,  342,   28],\n",
       "       [  23,    4, 2020,  313,   25],\n",
       "       [  22,    4, 2020,  263,   21],\n",
       "       [  21,    4, 2020,  306,   20],\n",
       "       [  20,    4, 2020,  545,   13],\n",
       "       [  19,    4, 2020,  363,   15],\n",
       "       [  18,    4, 2020,  461,   18],\n",
       "       [  17,    4, 2020,  336,   28],\n",
       "       [  16,    4, 2020,  380,   23],\n",
       "       [  15,    4, 2020,  268,   18],\n",
       "       [  14,    4, 2020,  260,   13],\n",
       "       [  13,    4, 2020,  318,   24],\n",
       "       [  12,    4, 2020,  401,   27],\n",
       "       [  11,    4, 2020,  380,    7],\n",
       "       [  10,    4, 2020,  370,   15],\n",
       "       [   9,    4, 2020,  357,   30],\n",
       "       [   8,    4, 2020,  435,   22],\n",
       "       [   7,    4, 2020,  311,   13],\n",
       "       [   6,    4, 2020,  475,   15],\n",
       "       [   5,    4, 2020,  244,    8],\n",
       "       [   4,    4, 2020,  437,   14],\n",
       "       [   3,    4, 2020,  392,   14],\n",
       "       [   2,    4, 2020,  243,   10],\n",
       "       [   1,    4, 2020,  256,    2],\n",
       "       [  31,    3, 2020,  193,    9],\n",
       "       [  30,    3, 2020,  224,    4],\n",
       "       [  29,    3, 2020,  249,    2],\n",
       "       [  28,    3, 2020,  168,    0],\n",
       "       [  27,    3, 2020,  170,    2],\n",
       "       [  26,    3, 2020,  150,    4],\n",
       "       [  25,    3, 2020,  152,    2],\n",
       "       [  24,    3, 2020,  115,    1],\n",
       "       [  23,    3, 2020,   98,    2],\n",
       "       [  22,    3, 2020,  111,    0],\n",
       "       [  21,    3, 2020,   70,    0],\n",
       "       [  20,    3, 2020,   68,    0],\n",
       "       [  19,    3, 2020,   49,    0],\n",
       "       [  18,    3, 2020,   61,    1],\n",
       "       [  17,    3, 2020,   52,    1],\n",
       "       [  16,    3, 2020,   21,    0],\n",
       "       [  15,    3, 2020,   36,    1],\n",
       "       [  14,    3, 2020,   19,    1],\n",
       "       [  13,    3, 2020,   18,    1],\n",
       "       [  12,    3, 2020,    9,    0],\n",
       "       [  11,    3, 2020,    5,    0],\n",
       "       [  10,    3, 2020,    6,    0],\n",
       "       [   9,    3, 2020,    5,    0],\n",
       "       [   8,    3, 2020,    1,    0],\n",
       "       [   7,    3, 2020,    4,    0],\n",
       "       [   4,    3, 2020,    1,    0]], dtype=int64)"
      ]
     },
     "execution_count": 10,
     "metadata": {},
     "output_type": "execute_result"
    }
   ],
   "source": [
    "graph.get_stats('POLAND')"
   ]
  },
  {
   "cell_type": "code",
   "execution_count": null,
   "metadata": {},
   "outputs": [],
   "source": [
    "assert np.array_equal(graph.get_stats('Czechia'), graph.get_stats('Czech_Republic'))"
   ]
  },
  {
   "cell_type": "code",
   "execution_count": null,
   "metadata": {},
   "outputs": [],
   "source": [
    "graph.get_stats('Poland')"
   ]
  },
  {
   "cell_type": "code",
   "execution_count": null,
   "metadata": {},
   "outputs": [],
   "source": [
    "assert graph.get_active_cases(\"Poland\", date(2020, 3, 10)) == 17"
   ]
  },
  {
   "cell_type": "code",
   "execution_count": null,
   "metadata": {},
   "outputs": [],
   "source": [
    "assert graph.get_active_cases(\"Poland\", date(2020, 3, 16)) == 122"
   ]
  },
  {
   "cell_type": "code",
   "execution_count": null,
   "metadata": {},
   "outputs": [],
   "source": [
    "assert graph.get_active_cases(\"Poland\", date(2020, 3, 15)) == 102"
   ]
  },
  {
   "cell_type": "markdown",
   "metadata": {},
   "source": [
    "Testing evolutionary algorithm"
   ]
  },
  {
   "cell_type": "code",
   "execution_count": 65,
   "metadata": {},
   "outputs": [],
   "source": [
    "start_day = date(2020, 4, 24)\n",
    "test = Evolutionary.EvolutionaryAlgorithm(graph, start_day, 10, 12, 0.05, 'best', 10)"
   ]
  },
  {
   "cell_type": "code",
   "execution_count": 37,
   "metadata": {},
   "outputs": [],
   "source": [
    "for i in list(graph.edges.keys()):\n",
    "    if(len(graph.edges[i]) == 0):\n",
    "        print(i)"
   ]
  },
  {
   "cell_type": "code",
   "execution_count": 66,
   "metadata": {},
   "outputs": [],
   "source": [
    "test.start_generation()"
   ]
  },
  {
   "cell_type": "code",
   "execution_count": 68,
   "metadata": {},
   "outputs": [
    {
     "name": "stdout",
     "output_type": "stream",
     "text": [
      "['MYANMAR', 'LAOS', 'CAMBODIA', 'LAOS', 'CAMBODIA', 'THAILAND', 'INDONESIA', 'MALAYSIA', 'SINGAPORE', 'INDONESIA', 'THAILAND', 'INDONESIA', 'SINGAPORE', 'INDONESIA']\n",
      "['CANADA', 'FRANCE', 'FIJI', 'TUVALU', 'KIRIBATI', 'JARVIS_ISLAND', 'KIRIBATI', 'UNITED_STATES', 'HAITI', 'NAVASSA_ISLAND', 'JAMAICA', 'HAITI', 'DOMINICAN_REPUBLIC', 'NETHERLANDS']\n",
      "['SAMOA', 'WALLIS_AND_FUTUNA', 'SAMOA', 'TONGA', 'WALLIS_AND_FUTUNA', 'SAMOA', 'TONGA', 'WALLIS_AND_FUTUNA', 'TOKELAU', 'FRANCE', 'TUVALU', 'KIRIBATI', 'UNITED_STATES', 'JAMAICA']\n",
      "['GEORGIA', 'RUSSIA', 'AZERBAIJAN', 'ARMENIA', 'TURKEY', 'SYRIA', 'LEBANON', 'SYRIA', 'TURKEY', 'IRAQ', 'SYRIA', 'JORDAN', 'SYRIA', 'JORDAN']\n",
      "['TURKMENISTAN', 'IRAN', 'AZERBAIJAN', 'ARMENIA', 'AZERBAIJAN', 'RUSSIA', 'NORWAY', 'SWEDEN', 'POLAND', 'DENMARK', 'NORWAY', 'UNITED_KINGDOM', 'DENMARK', 'GERMANY']\n",
      "['PITCAIRN_ISLANDS', 'FRANCE', 'PITCAIRN_ISLANDS', 'FRENCH_POLYNESIA', 'COOK_ISLANDS', 'NEW_ZEALAND', 'NORFOLK_ISLAND', 'NEW_ZEALAND', 'AUSTRALIA', 'EAST_TIMOR', 'AUSTRALIA', 'NEW_ZEALAND', 'NORFOLK_ISLAND', 'NEW_CALEDONIA']\n",
      "['MARSHALL_ISLANDS', 'NAURU', 'MARSHALL_ISLANDS', 'NAURU', 'KIRIBATI', 'NAURU', 'MARSHALL_ISLANDS', 'NAURU', 'MARSHALL_ISLANDS', 'FEDERATED_STATES_OF_MICRONESIA', 'GUAM', 'NORTHERN_MARIANA_ISLANDS', 'GUAM', 'FEDERATED_STATES_OF_MICRONESIA']\n",
      "['INDIA', 'PAKISTAN', 'INDIA', 'NEPAL', 'INDIA', 'MYANMAR', 'CHINA', 'NORTH_KOREA', 'SOUTH_KOREA', 'NORTH_KOREA', 'RUSSIA', 'TURKEY', 'CYPRUS', 'GREECE']\n",
      "['GREECE', 'TURKEY', 'IRAN', 'ARMENIA', 'IRAN', 'QATAR', 'SAUDI_ARABIA', 'KUWAIT', 'IRAQ', 'SAUDI_ARABIA', 'SUDAN', 'CHAD', 'LIBYA', 'SUDAN']\n",
      "['MARSHALL_ISLANDS', 'FEDERATED_STATES_OF_MICRONESIA', 'MARSHALL_ISLANDS', 'NAURU', 'MARSHALL_ISLANDS', 'NAURU', 'MARSHALL_ISLANDS', 'NAURU', 'MARSHALL_ISLANDS', 'NAURU', 'KIRIBATI', 'FRENCH_POLYNESIA', 'COOK_ISLANDS', 'FRANCE']\n"
     ]
    }
   ],
   "source": [
    "for i in test.active_generation:\n",
    "    print(i.countries)"
   ]
  },
  {
   "cell_type": "code",
   "execution_count": 30,
   "metadata": {},
   "outputs": [],
   "source": [
    "for i in list(graph.edges.keys()):\n",
    "    for j in graph.edges[i]:\n",
    "        if j not in list(graph.edges.keys()):\n",
    "            print(j)"
   ]
  }
 ],
 "metadata": {
  "kernelspec": {
   "display_name": "Python 3",
   "language": "python",
   "name": "python3"
  },
  "language_info": {
   "codemirror_mode": {
    "name": "ipython",
    "version": 3
   },
   "file_extension": ".py",
   "mimetype": "text/x-python",
   "name": "python",
   "nbconvert_exporter": "python",
   "pygments_lexer": "ipython3",
   "version": "3.6.8"
  }
 },
 "nbformat": 4,
 "nbformat_minor": 4
}
