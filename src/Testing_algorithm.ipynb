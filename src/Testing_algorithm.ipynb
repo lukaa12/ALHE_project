{
 "cells": [
  {
   "cell_type": "code",
   "execution_count": 1,
   "metadata": {},
   "outputs": [],
   "source": [
    "import pandas as pd\n",
    "import numpy as np\n",
    "from datetime import date"
   ]
  },
  {
   "cell_type": "code",
   "execution_count": 2,
   "metadata": {},
   "outputs": [],
   "source": [
    "import Graph\n",
    "import Path\n",
    "import Evolutionary"
   ]
  },
  {
   "cell_type": "markdown",
   "metadata": {},
   "source": [
    "Testing graph implementation"
   ]
  },
  {
   "cell_type": "code",
   "execution_count": 3,
   "metadata": {},
   "outputs": [],
   "source": [
    "graph = Graph.get_graph()"
   ]
  },
  {
   "cell_type": "code",
   "execution_count": null,
   "metadata": {},
   "outputs": [],
   "source": [
    "graph.edges"
   ]
  },
  {
   "cell_type": "code",
   "execution_count": null,
   "metadata": {},
   "outputs": [],
   "source": [
    "graph.vertices"
   ]
  },
  {
   "cell_type": "code",
   "execution_count": null,
   "metadata": {},
   "outputs": [],
   "source": [
    "assert len(graph.edges) == len(graph.vertices)"
   ]
  },
  {
   "cell_type": "code",
   "execution_count": null,
   "metadata": {},
   "outputs": [],
   "source": [
    "graph.get_neighbours('POLAND')"
   ]
  },
  {
   "cell_type": "code",
   "execution_count": null,
   "metadata": {},
   "outputs": [],
   "source": [
    "assert graph.get_neighbours('Czechia') == graph.get_neighbours('Czech_Republic')"
   ]
  },
  {
   "cell_type": "code",
   "execution_count": null,
   "metadata": {},
   "outputs": [],
   "source": [
    "graph.get_neighbours('Czech_Republic')"
   ]
  },
  {
   "cell_type": "code",
   "execution_count": null,
   "metadata": {},
   "outputs": [],
   "source": [
    "(date(2020, 5, 14) - date(2020, 5, 7)).days"
   ]
  },
  {
   "cell_type": "code",
   "execution_count": null,
   "metadata": {},
   "outputs": [],
   "source": [
    "graph.get_stats('POLAND')"
   ]
  },
  {
   "cell_type": "code",
   "execution_count": null,
   "metadata": {},
   "outputs": [],
   "source": [
    "assert np.array_equal(graph.get_stats('Czechia'), graph.get_stats('Czech_Republic'))"
   ]
  },
  {
   "cell_type": "code",
   "execution_count": null,
   "metadata": {},
   "outputs": [],
   "source": [
    "graph.get_stats('Poland')"
   ]
  },
  {
   "cell_type": "code",
   "execution_count": null,
   "metadata": {},
   "outputs": [],
   "source": [
    "assert graph.get_active_cases(\"ABKHAZIA\", date(2020, 3, 10)) == 0"
   ]
  },
  {
   "cell_type": "code",
   "execution_count": null,
   "metadata": {},
   "outputs": [],
   "source": [
    "assert graph.get_active_cases(\"Poland\", date(2020, 3, 10)) == 17"
   ]
  },
  {
   "cell_type": "code",
   "execution_count": null,
   "metadata": {},
   "outputs": [],
   "source": [
    "assert graph.get_active_cases(\"Poland\", date(2020, 3, 16)) == 122"
   ]
  },
  {
   "cell_type": "code",
   "execution_count": null,
   "metadata": {},
   "outputs": [],
   "source": [
    "assert graph.get_active_cases(\"Poland\", date(2020, 3, 15)) == 102"
   ]
  },
  {
   "cell_type": "code",
   "execution_count": null,
   "metadata": {},
   "outputs": [],
   "source": [
    "assert graph.get_active_cases('POLAND', date(2019, 3, 10)) == 0"
   ]
  },
  {
   "cell_type": "code",
   "execution_count": null,
   "metadata": {},
   "outputs": [],
   "source": [
    "assert graph.get_active_cases('POLAND', date(2020, 3, 11)) - graph.get_active_cases('POLAND', date(2020, 3, 10)) == 5"
   ]
  },
  {
   "cell_type": "markdown",
   "metadata": {},
   "source": [
    "Testing path"
   ]
  },
  {
   "cell_type": "code",
   "execution_count": null,
   "metadata": {},
   "outputs": [],
   "source": [
    "path = Path.Path('Poland', date(2020, 5, 1))"
   ]
  },
  {
   "cell_type": "code",
   "execution_count": null,
   "metadata": {},
   "outputs": [],
   "source": [
    "path.add('Czechia')\n",
    "path.add('Germany')"
   ]
  },
  {
   "cell_type": "code",
   "execution_count": null,
   "metadata": {},
   "outputs": [],
   "source": [
    "assert path.countries == ['Poland', 'Czechia', 'Germany']"
   ]
  },
  {
   "cell_type": "code",
   "execution_count": null,
   "metadata": {},
   "outputs": [],
   "source": [
    "path.eval(graph)\n",
    "score = graph.get_active_cases('Poland', date(2020, 5, 1)) + graph.get_active_cases('Czechia', date(2020, 5, 2)) + graph.get_active_cases('Germany', date(2020, 5, 3))\n",
    "assert score == path.score"
   ]
  },
  {
   "cell_type": "code",
   "execution_count": null,
   "metadata": {},
   "outputs": [],
   "source": [
    "path2 = Path.Path('Poland', date(2020, 5, 1))\n",
    "#path2.add('Czechia')\n",
    "path2.eval(graph)"
   ]
  },
  {
   "cell_type": "code",
   "execution_count": null,
   "metadata": {},
   "outputs": [],
   "source": [
    "path2.countries"
   ]
  },
  {
   "cell_type": "code",
   "execution_count": null,
   "metadata": {},
   "outputs": [],
   "source": [
    "path2.score"
   ]
  },
  {
   "cell_type": "code",
   "execution_count": null,
   "metadata": {},
   "outputs": [],
   "source": [
    "graph.get_active_cases('Poland', date(2020, 5, 1))"
   ]
  },
  {
   "cell_type": "code",
   "execution_count": null,
   "metadata": {},
   "outputs": [],
   "source": [
    "graph.get_active_cases('Czechia', date(2020, 5, 2))"
   ]
  },
  {
   "cell_type": "code",
   "execution_count": null,
   "metadata": {},
   "outputs": [],
   "source": [
    "path2.get_profit(graph, 'Czechia')"
   ]
  },
  {
   "cell_type": "code",
   "execution_count": null,
   "metadata": {},
   "outputs": [],
   "source": [
    "l1 = [0, 1, 2]\n",
    "l2 = [3, 4]\n",
    "\n",
    "l1 +l2"
   ]
  },
  {
   "cell_type": "markdown",
   "metadata": {},
   "source": [
    "Testing evolutionary algorithm"
   ]
  },
  {
   "cell_type": "code",
   "execution_count": 8,
   "metadata": {},
   "outputs": [],
   "source": [
    "start_day = date(2020, 4, 24)\n",
    "test = Evolutionary.EvolutionaryAlgorithm(graph, start_day, 100, 120, 0.05, 'best', 50)"
   ]
  },
  {
   "cell_type": "code",
   "execution_count": 12,
   "metadata": {},
   "outputs": [
    {
     "name": "stdout",
     "output_type": "stream",
     "text": [
      "['FRANCE', 'UNITED_KINGDOM', 'PUERTO_RICO', 'UNITED_STATES', 'MEXICO', 'BELIZE', 'MEXICO', 'BELIZE', 'HONDURAS', 'MEXICO', 'HONDURAS', 'EL_SALVADOR', 'GUATEMALA', 'MEXICO']\n"
     ]
    }
   ],
   "source": [
    "best = test.find_path()"
   ]
  },
  {
   "cell_type": "code",
   "execution_count": 10,
   "metadata": {},
   "outputs": [
    {
     "data": {
      "text/plain": [
       "1481753"
      ]
     },
     "execution_count": 10,
     "metadata": {},
     "output_type": "execute_result"
    }
   ],
   "source": [
    "best.score"
   ]
  },
  {
   "cell_type": "code",
   "execution_count": 11,
   "metadata": {},
   "outputs": [
    {
     "data": {
      "text/plain": [
       "['VENEZUELA',\n",
       " 'PUERTO_RICO',\n",
       " 'VENEZUELA',\n",
       " 'BRAZIL',\n",
       " 'SURINAME',\n",
       " 'BRAZIL',\n",
       " 'GUYANA',\n",
       " 'VENEZUELA',\n",
       " 'NETHERLANDS',\n",
       " 'FRANCE',\n",
       " 'UNITED_KINGDOM',\n",
       " 'UNITED_STATES',\n",
       " 'TOKELAU',\n",
       " 'WALLIS_AND_FUTUNA']"
      ]
     },
     "execution_count": 11,
     "metadata": {},
     "output_type": "execute_result"
    }
   ],
   "source": [
    "best.countries"
   ]
  },
  {
   "cell_type": "code",
   "execution_count": null,
   "metadata": {},
   "outputs": [],
   "source": [
    "test.start_generation()"
   ]
  },
  {
   "cell_type": "code",
   "execution_count": null,
   "metadata": {},
   "outputs": [],
   "source": [
    "t = test.reproduce(test.random_lambda())"
   ]
  },
  {
   "cell_type": "code",
   "execution_count": null,
   "metadata": {},
   "outputs": [],
   "source": [
    "len(t)"
   ]
  },
  {
   "cell_type": "code",
   "execution_count": null,
   "metadata": {},
   "outputs": [],
   "source": [
    "y = test.select_next_generation(t)"
   ]
  },
  {
   "cell_type": "code",
   "execution_count": null,
   "metadata": {},
   "outputs": [],
   "source": [
    "assert len(y) == len(test.active_generation)"
   ]
  },
  {
   "cell_type": "code",
   "execution_count": null,
   "metadata": {},
   "outputs": [],
   "source": [
    "y[0].countries"
   ]
  },
  {
   "cell_type": "code",
   "execution_count": null,
   "metadata": {},
   "outputs": [],
   "source": [
    "def cross_paths(path1, path2):\n",
    "    itrsct = [value for value in path1 if value in path2]\n",
    "    point1, point2 = path1.index(itrsct[len(itrsct)//2]), path2.index(itrsct[len(itrsct)//2])\n",
    "    need_len = len(path2)\n",
    "    if(point1 == point2):\n",
    "        ch1 = path1[:point1] + path2[point2:]\n",
    "        ch2 = path2[:point2] + path1[point1:]\n",
    "        return ch1, ch2\n",
    "    if(point1 < point2):\n",
    "        tmp, tmpp = path1, point1\n",
    "        path1, point1 = path2, point2\n",
    "        path2, point2 = tmp, tmpp\n",
    "    path = path1[:point1] + path2[point2:]\n",
    "    ch1 = path[:need_len]\n",
    "    ch2 = path[-need_len:]\n",
    "    return ch1, ch2\n",
    "    "
   ]
  },
  {
   "cell_type": "code",
   "execution_count": null,
   "metadata": {},
   "outputs": [],
   "source": [
    "path1 = ['q', 'w', 'e', '[]', 'r', 't', 'y', 'u', 'i', 'o']\n",
    "path2 = ['a', 's', 'd', '[]', 'f', 'g', 'h', 'j', 'k', 'l']\n",
    "\n",
    "cross_paths(path1, path2)"
   ]
  },
  {
   "cell_type": "code",
   "execution_count": null,
   "metadata": {},
   "outputs": [],
   "source": [
    "path1 = ['q', 'w', 'e', 'r', 't', 'y', '[]', 'u', 'i', 'o']\n",
    "path2 = ['a', 's', 'd', '[]', 'f', 'g', 'h', 'j', 'k', 'l']\n",
    "\n",
    "cross_paths(path1, path2)"
   ]
  },
  {
   "cell_type": "code",
   "execution_count": null,
   "metadata": {},
   "outputs": [],
   "source": [
    "path1 = ['a', 's', 'd', '[]', 'f', 'g', 'h', 'j', 'k', 'l']\n",
    "path2 = ['q', 'w', 'e', 'r', 't', 'y', '[]', 'u', 'i', 'o']\n",
    "\n",
    "cross_paths(path1, path2)"
   ]
  },
  {
   "cell_type": "code",
   "execution_count": null,
   "metadata": {},
   "outputs": [],
   "source": [
    "path1 = ['a', 's', 'd', '[]', 'f', 'g', 'h', 'j', 'k', 'l']\n",
    "path2 = ['q', 'w', '[]', 'e', 'r', 't', 'y', 'u', 'i', 'o']\n",
    "\n",
    "cross_paths(path1, path2)"
   ]
  },
  {
   "cell_type": "code",
   "execution_count": null,
   "metadata": {},
   "outputs": [],
   "source": [
    "path1 = ['a', '[]', 's', 'd', 'f', 'g', 'h', 'j', 'k', 'l']\n",
    "path2 = ['q', 'w', 'e', 'r', 't', '[]', 'y', 'u', 'i', 'o']\n",
    "\n",
    "cross_paths(path1, path2)"
   ]
  },
  {
   "cell_type": "code",
   "execution_count": null,
   "metadata": {},
   "outputs": [],
   "source": [
    "path2 = ['a', 's', 'd', '[]', 'f', 'g', 'h', 'j', 'k', 'l']\n",
    "path1 = ['q', 'w', 'e', 'r', 't', 'y', 'u', '[]', 'i', 'o']\n",
    "\n",
    "cross_paths(path1, path2)"
   ]
  },
  {
   "cell_type": "code",
   "execution_count": null,
   "metadata": {},
   "outputs": [],
   "source": [
    "np.random.randint(2)"
   ]
  }
 ],
 "metadata": {
  "kernelspec": {
   "display_name": "Python 3",
   "language": "python",
   "name": "python3"
  },
  "language_info": {
   "codemirror_mode": {
    "name": "ipython",
    "version": 3
   },
   "file_extension": ".py",
   "mimetype": "text/x-python",
   "name": "python",
   "nbconvert_exporter": "python",
   "pygments_lexer": "ipython3",
   "version": "3.6.8"
  }
 },
 "nbformat": 4,
 "nbformat_minor": 4
}
