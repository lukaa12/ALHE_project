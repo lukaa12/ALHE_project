{
 "cells": [
  {
   "cell_type": "markdown",
   "metadata": {},
   "source": [
    "Collecting data of international borders from Wikipedia"
   ]
  },
  {
   "cell_type": "code",
   "execution_count": 1,
   "metadata": {},
   "outputs": [],
   "source": [
    "import requests\n",
    "from bs4 import BeautifulSoup\n",
    "import csv\n",
    "import codecs"
   ]
  },
  {
   "cell_type": "code",
   "execution_count": 2,
   "metadata": {},
   "outputs": [],
   "source": [
    "WIKI_URL = \"https://en.wikipedia.org/wiki/List_of_countries_and_territories_by_land_and_maritime_borders\""
   ]
  },
  {
   "cell_type": "markdown",
   "metadata": {},
   "source": [
    "Getting content of table with list of actual international borders"
   ]
  },
  {
   "cell_type": "code",
   "execution_count": 3,
   "metadata": {},
   "outputs": [],
   "source": [
    "website_url = requests.get(WIKI_URL).text\n",
    "soup = BeautifulSoup(website_url, 'lxml')\n",
    "data_table = soup.find('table', {'class':'wikitable sortable'})\n",
    "rows = data_table.findAll('tr')[3:]"
   ]
  },
  {
   "cell_type": "code",
   "execution_count": 4,
   "metadata": {},
   "outputs": [],
   "source": [
    "countries = []\n",
    "for i in rows:\n",
    "    row = []\n",
    "    country = i.td.a.string\n",
    "    if country == None:\n",
    "        continue\n",
    "    row.append(country)\n",
    "    if i.findAll(\"td\")[-1].small != None:\n",
    "        i.findAll(\"td\")[-1].small.decompose()\n",
    "    for j in i.findAll(\"td\")[-1].findAll(\"a\"):\n",
    "        neig = j.string\n",
    "        if neig != None and neig[0] != '[':\n",
    "            row.append(neig)\n",
    "    countries.append(row)"
   ]
  },
  {
   "cell_type": "markdown",
   "metadata": {},
   "source": [
    "Saving data as CSV file"
   ]
  },
  {
   "cell_type": "code",
   "execution_count": 5,
   "metadata": {},
   "outputs": [],
   "source": [
    "with codecs.open(\"../data/borders.csv\", \"w\", \"utf-8-sig\") as file:\n",
    "    writer = csv.writer(file)\n",
    "    writer.writerows(countries)"
   ]
  }
 ],
 "metadata": {
  "kernelspec": {
   "display_name": "Python 3",
   "language": "python",
   "name": "python3"
  },
  "language_info": {
   "codemirror_mode": {
    "name": "ipython",
    "version": 3
   },
   "file_extension": ".py",
   "mimetype": "text/x-python",
   "name": "python",
   "nbconvert_exporter": "python",
   "pygments_lexer": "ipython3",
   "version": "3.6.8"
  }
 },
 "nbformat": 4,
 "nbformat_minor": 4
}
