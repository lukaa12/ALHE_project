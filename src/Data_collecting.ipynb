{
 "cells": [
  {
   "cell_type": "markdown",
   "metadata": {},
   "source": [
    "Collecting data of international borders from Wikipedia"
   ]
  },
  {
   "cell_type": "code",
   "execution_count": 1,
   "metadata": {},
   "outputs": [],
   "source": [
    "import requests\n",
    "from bs4 import BeautifulSoup\n",
    "import csv\n",
    "import codecs"
   ]
  },
  {
   "cell_type": "code",
   "execution_count": 2,
   "metadata": {},
   "outputs": [],
   "source": [
    "WIKI_URL = \"https://en.wikipedia.org/wiki/List_of_countries_and_territories_by_land_and_maritime_borders\""
   ]
  },
  {
   "cell_type": "markdown",
   "metadata": {},
   "source": [
    "Getting content of table with list of actual international borders"
   ]
  },
  {
   "cell_type": "code",
   "execution_count": 3,
   "metadata": {},
   "outputs": [],
   "source": [
    "website_url = requests.get(WIKI_URL).text\n",
    "soup = BeautifulSoup(website_url, 'lxml')\n",
    "data_table = soup.find('table', {'class':'wikitable sortable'})\n",
    "rows = data_table.findAll('tr')[3:]"
   ]
  },
  {
   "cell_type": "code",
   "execution_count": 4,
   "metadata": {},
   "outputs": [],
   "source": [
    "countries = []\n",
    "for i in rows:\n",
    "    row = []\n",
    "    country = i.td.a.string\n",
    "    if country == None:\n",
    "        continue\n",
    "    row.append(country)\n",
    "    if i.findAll(\"td\")[-1].small != None:\n",
    "        i.findAll(\"td\")[-1].small.decompose()\n",
    "    for j in i.findAll(\"td\")[-1].findAll(\"a\"):\n",
    "        neig = j.string\n",
    "        if neig != None and neig[0] != '[':\n",
    "            row.append(neig)\n",
    "    countries.append(row)"
   ]
  },
  {
   "cell_type": "markdown",
   "metadata": {},
   "source": [
    "Saving data as CSV file"
   ]
  },
  {
   "cell_type": "code",
   "execution_count": 5,
   "metadata": {},
   "outputs": [],
   "source": [
    "with codecs.open(\"../data/borders.csv\", \"w\", \"utf-8-sig\") as file:\n",
    "    writer = csv.writer(file)\n",
    "    writer.writerows(countries)"
   ]
  },
  {
   "cell_type": "markdown",
   "metadata": {},
   "source": [
    "Downloading COVID-19 data"
   ]
  },
  {
   "cell_type": "code",
   "execution_count": 3,
   "metadata": {},
   "outputs": [],
   "source": [
    "COVID_URL = \"https://opendata.ecdc.europa.eu/covid19/casedistribution/csv\""
   ]
  },
  {
   "cell_type": "code",
   "execution_count": 4,
   "metadata": {},
   "outputs": [
    {
     "data": {
      "text/plain": [
       "913907"
      ]
     },
     "execution_count": 4,
     "metadata": {},
     "output_type": "execute_result"
    }
   ],
   "source": [
    "r = requests.get(COVID_URL, allow_redirects=True)\n",
    "open(\"../data/covid_data.csv\", \"wb\").write(r.content)"
   ]
  },
  {
   "cell_type": "markdown",
   "metadata": {},
   "source": [
    "Loading data"
   ]
  },
  {
   "cell_type": "code",
   "execution_count": 32,
   "metadata": {},
   "outputs": [],
   "source": [
    "import pandas as pd\n",
    "import datetime"
   ]
  },
  {
   "cell_type": "code",
   "execution_count": 17,
   "metadata": {},
   "outputs": [],
   "source": [
    "cases = pd.read_csv(\"../data/covid_data.csv\")"
   ]
  },
  {
   "cell_type": "code",
   "execution_count": 18,
   "metadata": {},
   "outputs": [
    {
     "data": {
      "text/plain": [
       "(15698, 11)"
      ]
     },
     "execution_count": 18,
     "metadata": {},
     "output_type": "execute_result"
    }
   ],
   "source": [
    "cases.shape"
   ]
  },
  {
   "cell_type": "code",
   "execution_count": 39,
   "metadata": {},
   "outputs": [
    {
     "data": {
      "text/plain": [
       "(209,)"
      ]
     },
     "execution_count": 39,
     "metadata": {},
     "output_type": "execute_result"
    }
   ],
   "source": [
    "cases['countriesAndTerritories'].unique().shape"
   ]
  },
  {
   "cell_type": "code",
   "execution_count": 19,
   "metadata": {},
   "outputs": [
    {
     "data": {
      "text/plain": [
       "pandas.core.frame.DataFrame"
      ]
     },
     "execution_count": 19,
     "metadata": {},
     "output_type": "execute_result"
    }
   ],
   "source": [
    "type(cases)"
   ]
  },
  {
   "cell_type": "code",
   "execution_count": 30,
   "metadata": {},
   "outputs": [],
   "source": [
    "with open(\"../data/borders.csv\", mode=\"r\", encoding=\"utf-8-sig\") as file:\n",
    "    borders = {}\n",
    "    for line in file:\n",
    "        neighbours = line.replace('\\n','').replace(' ', '_').upper().split(',')\n",
    "        borders[neighbours[0]] = neighbours[1:]\n",
    "    file.close()"
   ]
  },
  {
   "cell_type": "markdown",
   "metadata": {},
   "source": [
    "Creating mapping between names of countries in COVID dataset and borders dataset"
   ]
  },
  {
   "cell_type": "code",
   "execution_count": 48,
   "metadata": {},
   "outputs": [
    {
     "name": "stdout",
     "output_type": "stream",
     "text": [
      "Bonaire, Saint Eustatius and Saba\n",
      "Brunei_Darussalam\n",
      "Cases_on_an_international_conveyance_Japan\n",
      "Congo\n",
      "Cote_dIvoire\n",
      "Czechia\n",
      "Eswatini\n",
      "Falkland_Islands_(Malvinas)\n",
      "Gambia\n",
      "Guinea_Bissau\n",
      "Holy_See\n",
      "Sao_Tome_and_Principe\n",
      "Timor_Leste\n",
      "United_Republic_of_Tanzania\n",
      "United_States_of_America\n"
     ]
    }
   ],
   "source": [
    "for country in countries_from_covid_dataset:\n",
    "    if country.upper() not in borders.keys():\n",
    "        print(country)"
   ]
  },
  {
   "cell_type": "code",
   "execution_count": 56,
   "metadata": {},
   "outputs": [],
   "source": [
    "mapping_countries_names = {\n",
    "    'Bonaire, Saint Eustatius and Saba' : 'Netherlands',\n",
    "    'Brunei_Darussalam' : 'Brunei',\n",
    "    #'Cases_on_an_international_conveyance_Japan'  this is Diamond Princess,\n",
    "    'Congo' : 'Republic_of_the_Congo',\n",
    "    'Cote_dIvoire' : \"Côte_d'Ivoire\",\n",
    "    'Czechia' : 'Czech_Republic',\n",
    "    'Eswatini' : 'Eswatini_(Swaziland)' ,\n",
    "    'Falkland_Islands_(Malvinas)' : 'Falkland_Islands',\n",
    "    'Gambia' : 'The_Gambia',\n",
    "    'Guinea_Bissau' : 'Guinea-Bissau',\n",
    "    'Holy_See' : 'Vatican_City',\n",
    "    'Sao_Tome_and_Principe' : 'São_Tomé_and_Príncipe' ,\n",
    "    'Timor_Leste' : 'East_Timor',\n",
    "    'United_Republic_of_Tanzania' : 'Tanzania' ,\n",
    "    'United_States_of_America' : 'United_States',\n",
    "}"
   ]
  },
  {
   "cell_type": "code",
   "execution_count": 57,
   "metadata": {},
   "outputs": [],
   "source": [
    "for country in countries_from_covid_dataset:\n",
    "    if country == 'Cases_on_an_international_conveyance_Japan':\n",
    "        continue\n",
    "    if country.upper() not in borders.keys():\n",
    "        country = mapping_countries_names[country]\n",
    "        if country.upper() not in borders.keys():\n",
    "            print(country)"
   ]
  }
 ],
 "metadata": {
  "kernelspec": {
   "display_name": "Python 3",
   "language": "python",
   "name": "python3"
  },
  "language_info": {
   "codemirror_mode": {
    "name": "ipython",
    "version": 3
   },
   "file_extension": ".py",
   "mimetype": "text/x-python",
   "name": "python",
   "nbconvert_exporter": "python",
   "pygments_lexer": "ipython3",
   "version": "3.6.8"
  }
 },
 "nbformat": 4,
 "nbformat_minor": 4
}
