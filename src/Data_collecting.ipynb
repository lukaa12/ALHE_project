{
 "cells": [
  {
   "cell_type": "markdown",
   "metadata": {},
   "source": [
    "# Data collecting and saving as CSV files"
   ]
  },
  {
   "cell_type": "code",
   "execution_count": 1,
   "metadata": {},
   "outputs": [],
   "source": [
    "import requests\n",
    "from bs4 import BeautifulSoup\n",
    "import csv\n",
    "import codecs\n",
    "import pandas as pd\n",
    "import datetime"
   ]
  },
  {
   "cell_type": "markdown",
   "metadata": {},
   "source": [
    "Collecting data of international borders from Wikipedia"
   ]
  },
  {
   "cell_type": "code",
   "execution_count": null,
   "metadata": {},
   "outputs": [],
   "source": [
    "WIKI_URL = \"https://en.wikipedia.org/wiki/List_of_countries_and_territories_by_land_and_maritime_borders\""
   ]
  },
  {
   "cell_type": "code",
   "execution_count": null,
   "metadata": {},
   "outputs": [],
   "source": [
    "#Getting content of table with list of actual international borders\n",
    "website_url = requests.get(WIKI_URL).text\n",
    "soup = BeautifulSoup(website_url, 'lxml')\n",
    "data_table = soup.find('table', {'class':'wikitable sortable'})\n",
    "rows = data_table.findAll('tr')[3:]"
   ]
  },
  {
   "cell_type": "code",
   "execution_count": null,
   "metadata": {},
   "outputs": [],
   "source": [
    "countries = []\n",
    "for i in rows:\n",
    "    row = []\n",
    "    country = i.td.a.string\n",
    "    if country == None:\n",
    "        continue\n",
    "    row.append(country)\n",
    "    if i.findAll(\"td\")[-1].small != None:\n",
    "        i.findAll(\"td\")[-1].small.decompose()\n",
    "    for j in i.findAll(\"td\")[-1].findAll(\"a\"):\n",
    "        neig = j.string\n",
    "        if neig != None and neig[0] != '[':\n",
    "            row.append(neig)\n",
    "    countries.append(row)"
   ]
  },
  {
   "cell_type": "code",
   "execution_count": null,
   "metadata": {},
   "outputs": [],
   "source": [
    "#this code was used to save data about borders to CSV, do not re-run (after first running this data was changed for cohesion)\n",
    "Saving data as CSV file\n",
    "with codecs.open(\"../data/borders_raw.csv\", \"w\", \"utf-8-sig\") as file:\n",
    "    writer = csv.writer(file)\n",
    "    writer.writerows(countries)"
   ]
  },
  {
   "cell_type": "markdown",
   "metadata": {},
   "source": [
    "Downloading COVID-19 data"
   ]
  },
  {
   "cell_type": "code",
   "execution_count": 4,
   "metadata": {},
   "outputs": [],
   "source": [
    "COVID_URL = \"https://opendata.ecdc.europa.eu/covid19/casedistribution/csv\""
   ]
  },
  {
   "cell_type": "code",
   "execution_count": 5,
   "metadata": {},
   "outputs": [
    {
     "data": {
      "text/plain": [
       "1123627"
      ]
     },
     "execution_count": 5,
     "metadata": {},
     "output_type": "execute_result"
    }
   ],
   "source": [
    "r = requests.get(COVID_URL, allow_redirects=True)\n",
    "open(\"../data/covid_data.csv\", \"wb\").write(r.content)"
   ]
  },
  {
   "cell_type": "markdown",
   "metadata": {},
   "source": [
    "Loading data"
   ]
  },
  {
   "cell_type": "code",
   "execution_count": 2,
   "metadata": {},
   "outputs": [],
   "source": [
    "cases = pd.read_csv(\"../data/covid_data.csv\")"
   ]
  },
  {
   "cell_type": "code",
   "execution_count": 3,
   "metadata": {},
   "outputs": [],
   "source": [
    "cases['countriesAndTerritories'] = cases['countriesAndTerritories'].map(str.upper)\n",
    "cases = cases[['day', 'month', 'year', 'cases', 'deaths', 'countriesAndTerritories']]\n",
    "cases = cases.set_index('countriesAndTerritories')"
   ]
  },
  {
   "cell_type": "code",
   "execution_count": 4,
   "metadata": {},
   "outputs": [
    {
     "data": {
      "text/plain": [
       "array([[  25,    5, 2020,  584,    2],\n",
       "       [  24,    5, 2020,  782,   11],\n",
       "       [  23,    5, 2020,  540,   12],\n",
       "       [  22,    5, 2020,  531,    6],\n",
       "       [  21,    5, 2020,  492,    9],\n",
       "       [  20,    5, 2020,  581,    5],\n",
       "       [  19,    5, 2020,  408,    4],\n",
       "       [  18,    5, 2020,  262,    1],\n",
       "       [  17,    5, 2020,    0,    0],\n",
       "       [  16,    5, 2020, 1063,   32],\n",
       "       [  15,    5, 2020,  113,    6],\n",
       "       [  14,    5, 2020,  259,    3],\n",
       "       [  13,    5, 2020,  280,    5],\n",
       "       [  12,    5, 2020,  285,    2],\n",
       "       [  11,    5, 2020,  369,    5],\n",
       "       [  10,    5, 2020,  255,    6],\n",
       "       [   9,    5, 2020,  215,    3],\n",
       "       [   8,    5, 2020,  171,    2],\n",
       "       [   7,    5, 2020,  168,    9],\n",
       "       [   6,    5, 2020,  330,    5],\n",
       "       [   5,    5, 2020,  190,    5],\n",
       "       [   4,    5, 2020,  235,   13],\n",
       "       [   3,    5, 2020,  134,    4],\n",
       "       [   2,    5, 2020,  164,    4],\n",
       "       [   1,    5, 2020,  222,    4],\n",
       "       [  30,    4, 2020,  122,    0],\n",
       "       [  29,    4, 2020,  124,    3],\n",
       "       [  28,    4, 2020,  172,    0],\n",
       "       [  27,    4, 2020,   68,   10],\n",
       "       [  26,    4, 2020,  112,    4],\n",
       "       [  25,    4, 2020,   70,    1],\n",
       "       [  24,    4, 2020,  105,    2],\n",
       "       [  23,    4, 2020,   84,    4],\n",
       "       [  22,    4, 2020,   61,    1],\n",
       "       [  21,    4, 2020,   35,    2],\n",
       "       [  20,    4, 2020,   88,    3],\n",
       "       [  19,    4, 2020,   63,    0],\n",
       "       [  18,    4, 2020,   51,    1],\n",
       "       [  17,    4, 2020,   10,    4],\n",
       "       [  16,    4, 2020,   70,    2],\n",
       "       [  15,    4, 2020,   49,    2],\n",
       "       [  14,    4, 2020,   58,    3],\n",
       "       [  13,    4, 2020,   52,    0],\n",
       "       [  12,    4, 2020,   34,    3],\n",
       "       [  11,    4, 2020,   37,    0],\n",
       "       [  10,    4, 2020,   61,    1],\n",
       "       [   9,    4, 2020,   56,    3],\n",
       "       [   8,    4, 2020,   30,    4],\n",
       "       [   7,    4, 2020,   38,    0],\n",
       "       [   6,    4, 2020,   29,    2],\n",
       "       [   5,    4, 2020,   35,    1],\n",
       "       [   4,    4, 2020,    0,    0],\n",
       "       [   3,    4, 2020,   43,    0],\n",
       "       [   2,    4, 2020,   26,    0],\n",
       "       [   1,    4, 2020,   25,    0],\n",
       "       [  31,    3, 2020,   27,    0],\n",
       "       [  30,    3, 2020,    8,    1],\n",
       "       [  29,    3, 2020,   15,    1],\n",
       "       [  28,    3, 2020,   16,    1],\n",
       "       [  27,    3, 2020,    0,    0],\n",
       "       [  26,    3, 2020,   33,    0],\n",
       "       [  25,    3, 2020,    2,    0],\n",
       "       [  24,    3, 2020,    6,    1],\n",
       "       [  23,    3, 2020,   10,    0],\n",
       "       [  22,    3, 2020,    0,    0],\n",
       "       [  21,    3, 2020,    2,    0],\n",
       "       [  20,    3, 2020,    0,    0],\n",
       "       [  19,    3, 2020,    0,    0],\n",
       "       [  18,    3, 2020,    1,    0],\n",
       "       [  17,    3, 2020,    5,    0],\n",
       "       [  16,    3, 2020,    6,    0],\n",
       "       [  15,    3, 2020,    3,    0],\n",
       "       [  11,    3, 2020,    3,    0],\n",
       "       [   8,    3, 2020,    3,    0],\n",
       "       [   2,    3, 2020,    0,    0],\n",
       "       [   1,    3, 2020,    0,    0],\n",
       "       [  29,    2, 2020,    0,    0],\n",
       "       [  28,    2, 2020,    0,    0],\n",
       "       [  27,    2, 2020,    0,    0],\n",
       "       [  26,    2, 2020,    0,    0],\n",
       "       [  25,    2, 2020,    1,    0],\n",
       "       [  24,    2, 2020,    0,    0],\n",
       "       [  23,    2, 2020,    0,    0],\n",
       "       [  22,    2, 2020,    0,    0],\n",
       "       [  21,    2, 2020,    0,    0],\n",
       "       [  20,    2, 2020,    0,    0],\n",
       "       [  19,    2, 2020,    0,    0],\n",
       "       [  18,    2, 2020,    0,    0],\n",
       "       [  17,    2, 2020,    0,    0],\n",
       "       [  16,    2, 2020,    0,    0],\n",
       "       [  15,    2, 2020,    0,    0],\n",
       "       [  14,    2, 2020,    0,    0],\n",
       "       [  13,    2, 2020,    0,    0],\n",
       "       [  12,    2, 2020,    0,    0],\n",
       "       [  11,    2, 2020,    0,    0],\n",
       "       [  10,    2, 2020,    0,    0],\n",
       "       [   9,    2, 2020,    0,    0],\n",
       "       [   8,    2, 2020,    0,    0],\n",
       "       [   7,    2, 2020,    0,    0],\n",
       "       [   6,    2, 2020,    0,    0],\n",
       "       [   5,    2, 2020,    0,    0],\n",
       "       [   4,    2, 2020,    0,    0],\n",
       "       [   3,    2, 2020,    0,    0],\n",
       "       [   2,    2, 2020,    0,    0],\n",
       "       [   1,    2, 2020,    0,    0],\n",
       "       [  31,    1, 2020,    0,    0],\n",
       "       [  30,    1, 2020,    0,    0],\n",
       "       [  29,    1, 2020,    0,    0],\n",
       "       [  28,    1, 2020,    0,    0],\n",
       "       [  27,    1, 2020,    0,    0],\n",
       "       [  26,    1, 2020,    0,    0],\n",
       "       [  25,    1, 2020,    0,    0],\n",
       "       [  24,    1, 2020,    0,    0],\n",
       "       [  23,    1, 2020,    0,    0],\n",
       "       [  22,    1, 2020,    0,    0],\n",
       "       [  21,    1, 2020,    0,    0],\n",
       "       [  20,    1, 2020,    0,    0],\n",
       "       [  19,    1, 2020,    0,    0],\n",
       "       [  18,    1, 2020,    0,    0],\n",
       "       [  17,    1, 2020,    0,    0],\n",
       "       [  16,    1, 2020,    0,    0],\n",
       "       [  15,    1, 2020,    0,    0],\n",
       "       [  14,    1, 2020,    0,    0],\n",
       "       [  13,    1, 2020,    0,    0],\n",
       "       [  12,    1, 2020,    0,    0],\n",
       "       [  11,    1, 2020,    0,    0],\n",
       "       [  10,    1, 2020,    0,    0],\n",
       "       [   9,    1, 2020,    0,    0],\n",
       "       [   8,    1, 2020,    0,    0],\n",
       "       [   7,    1, 2020,    0,    0],\n",
       "       [   6,    1, 2020,    0,    0],\n",
       "       [   5,    1, 2020,    0,    0],\n",
       "       [   4,    1, 2020,    0,    0],\n",
       "       [   3,    1, 2020,    0,    0],\n",
       "       [   2,    1, 2020,    0,    0],\n",
       "       [   1,    1, 2020,    0,    0],\n",
       "       [  31,   12, 2019,    0,    0]], dtype=int64)"
      ]
     },
     "execution_count": 4,
     "metadata": {},
     "output_type": "execute_result"
    }
   ],
   "source": [
    "#numpy arrays will be used in graph representation in dictionary with country names as keys \n",
    "#example of array for Afghanistan\n",
    "cases.loc['AFGHANISTAN'].to_numpy()"
   ]
  },
  {
   "cell_type": "code",
   "execution_count": 9,
   "metadata": {},
   "outputs": [],
   "source": [
    "with open(\"../data/borders.csv\", mode=\"r\", encoding=\"utf-8-sig\") as file:\n",
    "    borders = {}\n",
    "    for line in file:\n",
    "        neighbours = line.replace('\\n','').replace(' ', '_').upper().split(',')\n",
    "        borders[neighbours[0]] = neighbours[1:]\n",
    "    file.close()"
   ]
  },
  {
   "cell_type": "code",
   "execution_count": 11,
   "metadata": {},
   "outputs": [],
   "source": [
    "keys = list(borders.keys())"
   ]
  },
  {
   "cell_type": "markdown",
   "metadata": {},
   "source": [
    "Creating mapping between names of countries in COVID dataset and borders dataset"
   ]
  },
  {
   "cell_type": "code",
   "execution_count": 21,
   "metadata": {},
   "outputs": [],
   "source": [
    "countries_from_covid_dataset = cases.index.unique().tolist()"
   ]
  },
  {
   "cell_type": "code",
   "execution_count": 22,
   "metadata": {},
   "outputs": [
    {
     "name": "stdout",
     "output_type": "stream",
     "text": [
      "BERMUDA\n",
      "BONAIRE, SAINT EUSTATIUS AND SABA\n",
      "BRUNEI_DARUSSALAM\n",
      "CASES_ON_AN_INTERNATIONAL_CONVEYANCE_JAPAN\n",
      "CONGO\n",
      "COTE_DIVOIRE\n",
      "CZECHIA\n",
      "ESWATINI\n",
      "FALKLAND_ISLANDS_(MALVINAS)\n",
      "GAMBIA\n",
      "GUINEA_BISSAU\n",
      "HOLY_SEE\n",
      "SAO_TOME_AND_PRINCIPE\n",
      "TIMOR_LESTE\n",
      "UNITED_REPUBLIC_OF_TANZANIA\n",
      "UNITED_STATES_OF_AMERICA\n"
     ]
    }
   ],
   "source": [
    "for country in countries_from_covid_dataset:\n",
    "    if country.upper() not in borders.keys():\n",
    "        print(country)"
   ]
  },
  {
   "cell_type": "code",
   "execution_count": 24,
   "metadata": {},
   "outputs": [],
   "source": [
    "mapping_countries_names = {\n",
    "    'Bermuda' : 'United_Kingdom',\n",
    "    'Bonaire, Saint Eustatius and Saba' : 'Netherlands',\n",
    "    'Brunei_Darussalam' : 'Brunei',\n",
    "    #'Cases_on_an_international_conveyance_Japan'  this is Diamond Princess - not a country,\n",
    "    'Congo' : 'Republic_of_the_Congo',\n",
    "    'Cote_dIvoire' : \"Côte_d'Ivoire\",\n",
    "    'Czechia' : 'Czech_Republic',\n",
    "    'Eswatini' : 'Eswatini_(Swaziland)' ,\n",
    "    'Falkland_Islands_(Malvinas)' : 'Falkland_Islands',\n",
    "    'Gambia' : 'The_Gambia',\n",
    "    'Guinea_Bissau' : 'Guinea-Bissau',\n",
    "    'Holy_See' : 'Vatican_City',\n",
    "    'Sao_Tome_and_Principe' : 'São_Tomé_and_Príncipe' ,\n",
    "    'Timor_Leste' : 'East_Timor',\n",
    "    'United_Republic_of_Tanzania' : 'Tanzania' ,\n",
    "    'United_States_of_America' : 'United_States',\n",
    "}"
   ]
  }
 ],
 "metadata": {
  "kernelspec": {
   "display_name": "Python 3",
   "language": "python",
   "name": "python3"
  },
  "language_info": {
   "codemirror_mode": {
    "name": "ipython",
    "version": 3
   },
   "file_extension": ".py",
   "mimetype": "text/x-python",
   "name": "python",
   "nbconvert_exporter": "python",
   "pygments_lexer": "ipython3",
   "version": "3.6.8"
  }
 },
 "nbformat": 4,
 "nbformat_minor": 4
}
